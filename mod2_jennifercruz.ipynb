{
 "cells": [
  {
   "cell_type": "code",
   "execution_count": 1,
   "id": "1561221f-ec01-4d30-b2f4-885ec33e4176",
   "metadata": {},
   "outputs": [],
   "source": [
    "grades = [85, 93, 45, 89, 85]"
   ]
  },
  {
   "cell_type": "code",
   "execution_count": 2,
   "id": "c6d0f13d-9e75-4a0f-bff7-44e78a450ad8",
   "metadata": {},
   "outputs": [
    {
     "data": {
      "text/plain": [
       "79.4"
      ]
     },
     "execution_count": 2,
     "metadata": {},
     "output_type": "execute_result"
    }
   ],
   "source": [
    "sum(grades) / len(grades)"
   ]
  },
  {
   "cell_type": "code",
   "execution_count": 3,
   "id": "239617e6-bcc0-46fa-9e33-456217336305",
   "metadata": {},
   "outputs": [],
   "source": [
    "import statistics"
   ]
  },
  {
   "cell_type": "code",
   "execution_count": 4,
   "id": "fd5c54b6-b8a4-40a1-a12b-176ccad96b65",
   "metadata": {},
   "outputs": [
    {
     "data": {
      "text/plain": [
       "79.4"
      ]
     },
     "execution_count": 4,
     "metadata": {},
     "output_type": "execute_result"
    }
   ],
   "source": [
    "statistics.mean(grades)"
   ]
  },
  {
   "cell_type": "code",
   "execution_count": 7,
   "id": "fe4a5d2f-32a5-4530-8e1c-a73aeb83492d",
   "metadata": {},
   "outputs": [
    {
     "data": {
      "text/plain": [
       "[45, 85, 85, 89, 93]"
      ]
     },
     "execution_count": 7,
     "metadata": {},
     "output_type": "execute_result"
    }
   ],
   "source": [
    "sorted(grades)"
   ]
  },
  {
   "cell_type": "code",
   "execution_count": 8,
   "id": "bfb7c9a2-6461-43c3-bd45-eb75851a4452",
   "metadata": {},
   "outputs": [],
   "source": [
    "values = [47, 95, 88, 73, 88, 84]"
   ]
  },
  {
   "cell_type": "code",
   "execution_count": 9,
   "id": "9d715512-f001-459e-baa0-32bf7272c342",
   "metadata": {},
   "outputs": [
    {
     "data": {
      "text/plain": [
       "79.16666666666667"
      ]
     },
     "execution_count": 9,
     "metadata": {},
     "output_type": "execute_result"
    }
   ],
   "source": [
    "statistics.mean(values)"
   ]
  },
  {
   "cell_type": "code",
   "execution_count": 10,
   "id": "f3e5320e-648b-40e8-a78d-ec350c74c357",
   "metadata": {},
   "outputs": [
    {
     "data": {
      "text/plain": [
       "86.0"
      ]
     },
     "execution_count": 10,
     "metadata": {},
     "output_type": "execute_result"
    }
   ],
   "source": [
    "statistics.median(values)"
   ]
  },
  {
   "cell_type": "code",
   "execution_count": 11,
   "id": "72449c06-6049-4607-8baa-02d5932b507b",
   "metadata": {},
   "outputs": [
    {
     "data": {
      "text/plain": [
       "88"
      ]
     },
     "execution_count": 11,
     "metadata": {},
     "output_type": "execute_result"
    }
   ],
   "source": [
    "statistics.mode(values)"
   ]
  },
  {
   "cell_type": "code",
   "execution_count": 17,
   "id": "5bdc5fb0-65e4-4ed7-aefa-c8a4f1f6cf60",
   "metadata": {},
   "outputs": [],
   "source": [
    "scores = [10, 17, 0, 17, 0, 21, 26, 27, 10, 27, 6, 23, 12, 28, 7, 16, 15, 17, 10, 48, 23, 26, 21, 20, 10, 27, 13, 23, 27, 31, 9, 19]"
   ]
  },
  {
   "cell_type": "code",
   "execution_count": 18,
   "id": "58c5e618-8e1f-4553-8585-e206f9c57bba",
   "metadata": {},
   "outputs": [
    {
     "data": {
      "text/plain": [
       "18.3125"
      ]
     },
     "execution_count": 18,
     "metadata": {},
     "output_type": "execute_result"
    }
   ],
   "source": [
    "sum(scores) / len(scores)"
   ]
  },
  {
   "cell_type": "code",
   "execution_count": 19,
   "id": "268666e8-65f5-4363-90b7-d87cdd84ec48",
   "metadata": {},
   "outputs": [
    {
     "data": {
      "text/plain": [
       "18.3125"
      ]
     },
     "execution_count": 19,
     "metadata": {},
     "output_type": "execute_result"
    }
   ],
   "source": [
    "statistics.mean(scores)"
   ]
  },
  {
   "cell_type": "code",
   "execution_count": 20,
   "id": "d9a7dbe2-c5d2-4f36-98e4-1f3301339540",
   "metadata": {},
   "outputs": [
    {
     "data": {
      "text/plain": [
       "18.0"
      ]
     },
     "execution_count": 20,
     "metadata": {},
     "output_type": "execute_result"
    }
   ],
   "source": [
    "statistics.median(scores)"
   ]
  },
  {
   "cell_type": "code",
   "execution_count": 21,
   "id": "cc5bfdcf-81e1-48c1-8c44-db055a2f859a",
   "metadata": {},
   "outputs": [
    {
     "data": {
      "text/plain": [
       "10"
      ]
     },
     "execution_count": 21,
     "metadata": {},
     "output_type": "execute_result"
    }
   ],
   "source": [
    "statistics.mode(scores)"
   ]
  },
  {
   "cell_type": "code",
   "execution_count": 22,
   "id": "2865f10d-f5cc-468f-a288-54946e2b6963",
   "metadata": {},
   "outputs": [
    {
     "data": {
      "text/plain": [
       "586"
      ]
     },
     "execution_count": 22,
     "metadata": {},
     "output_type": "execute_result"
    }
   ],
   "source": [
    "sum(scores)"
   ]
  },
  {
   "cell_type": "code",
   "execution_count": 23,
   "id": "1d77f7c0-ae01-4e4d-9ba1-d97de947870e",
   "metadata": {},
   "outputs": [
    {
     "data": {
      "text/plain": [
       "32"
      ]
     },
     "execution_count": 23,
     "metadata": {},
     "output_type": "execute_result"
    }
   ],
   "source": [
    "len(scores)"
   ]
  }
 ],
 "metadata": {
  "kernelspec": {
   "display_name": "Python 3 (ipykernel)",
   "language": "python",
   "name": "python3"
  },
  "language_info": {
   "codemirror_mode": {
    "name": "ipython",
    "version": 3
   },
   "file_extension": ".py",
   "mimetype": "text/x-python",
   "name": "python",
   "nbconvert_exporter": "python",
   "pygments_lexer": "ipython3",
   "version": "3.9.12"
  }
 },
 "nbformat": 4,
 "nbformat_minor": 5
}
